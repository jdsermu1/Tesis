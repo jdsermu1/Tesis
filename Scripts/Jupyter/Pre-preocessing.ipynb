{
 "cells": [
  {
   "cell_type": "code",
   "execution_count": 1,
   "metadata": {},
   "outputs": [],
   "source": [
    "import os\n",
    "import numpy as np\n",
    "import cv2\n",
    "import random\n",
    "import pandas as pd\n",
    "from progressbar import ProgressBar\n",
    "from matplotlib import pyplot as plt\n",
    "from sklearn.model_selection import train_test_split"
   ]
  },
  {
   "cell_type": "code",
   "execution_count": 2,
   "metadata": {},
   "outputs": [],
   "source": [
    "def detect_xyr(image, min_radius_ratio=.33, max_radius_ratio=.6):\n",
    "    width = image.shape[1]\n",
    "    height = image.shape[0]\n",
    "    myMinWidthHeight = min(width, height) \n",
    "    myMinRadius = round(myMinWidthHeight * min_radius_ratio)\n",
    "    myMaxRadius = round(myMinWidthHeight * max_radius_ratio)\n",
    "    gray = cv2.cvtColor(image, cv2.COLOR_BGR2GRAY)\n",
    "    circles = cv2.HoughCircles(gray, cv2.HOUGH_GRADIENT, 1, minDist=450, \n",
    "                               param1=120, param2=32,\n",
    "                               minRadius=myMinRadius,\n",
    "                               maxRadius=myMaxRadius)\n",
    "    (x, y, r) = (0, 0, 0)\n",
    "    found_circle = False\n",
    "    if circles is not None:\n",
    "        circles = np.round(circles[0, :]).astype(\"int\")\n",
    "        if (circles is not None) and (len(circles == 1)):\n",
    "            x1, y1, r1 = circles[0]\n",
    "            if (2 / 5 * width) < x1 < (3 / 5 * width) and (2 / 5 * height) < y1 < (3 / 5 * height):\n",
    "                x, y, r = circles[0]\n",
    "                found_circle = True\n",
    "    if not found_circle:\n",
    "        x = img.shape[1] // 2\n",
    "        y = img.shape[0] // 2\n",
    "        temp_x = image[int(image.shape[0] / 2), :, :].sum(1)\n",
    "        r = int((temp_x > temp_x.mean() / 12).sum() / 2)\n",
    "    return (x, y, r)\n",
    "\n",
    "\n",
    "def center_eye_bulb(image, x, y, r):\n",
    "    (image_height, image_width) = (image.shape[0], image.shape[1])\n",
    "    image_left = int(max(0, x - r ))\n",
    "    image_right = int(min(x + r, image_width - 1))\n",
    "    image_top = int(max(0, y - r))\n",
    "    image_bottom = int(min(y + r, image_height - 1))\n",
    "    image= image[image_top: image_bottom, image_left:image_right, :]\n",
    "    return image\n",
    "\n",
    "\n",
    "def set_eyebulb_diameter(image, diameter):\n",
    "    if image.shape[1]>image.shape[0]:\n",
    "        image = cv2.resize(image, (diameter, int(diameter*image.shape[0]/image.shape[1])))\n",
    "    else:\n",
    "        image = cv2.resize(image, (int(diameter*image.shape[1]/image.shape[0]), diameter))\n",
    "    return image\n",
    "\n",
    "\n",
    "def substract_local_average(image, filter_size, diameter):\n",
    "    b=np.zeros(image.shape)\n",
    "    cv2.circle(b,(image.shape[1]//2,image.shape[0]//2),int(diameter//2*0.9),(1,1,1),-1,8,0)\n",
    "    image = cv2.addWeighted(image, 4, cv2.GaussianBlur(image, (0,0), filter_size),-4, 128)*b+128*(1-b)\n",
    "    return image\n",
    "\n",
    "\n",
    "def crop(image, x, y, r, percentage):\n",
    "    r = int(percentage*r)\n",
    "    height, width, _ = image.shape\n",
    "    mask = np.zeros((height, width, 3), np.uint8)\n",
    "    mask = cv2.circle(mask, (x,y), r, (1,1,1), -1)\n",
    "    #mask = cv2.circle(mask, (x,y), r, (255, 255, 255), -1)\n",
    "    return np.multiply(image, mask)\n",
    "    #return cv2.bitwise_and()\n",
    "\n",
    "\n",
    "def add_padding(image):\n",
    "    (image_height, image_width) = (image.shape[0], image.shape[1])\n",
    "    left_padding = 0 if image_width>image_height else (image_height-image_width)//2\n",
    "    right_padding = 0 if image_width>image_height else (image_height-image_width)//2\n",
    "    top_padding = 0 if image_width<image_height else (image_width-image_height)//2\n",
    "    bottom_padding = 0 if image_width<image_height else int(image_width-image_height)//2\n",
    "    image = cv2.copyMakeBorder(image,top=top_padding,bottom=bottom_padding, left=left_padding,right=right_padding,\n",
    "                               borderType=cv2.BORDER_CONSTANT, value=[0, 0, 0])\n",
    "    return image\n",
    "\n",
    "\n",
    "def preprocess(image, desired_size=540, diameter=540, filter_size=9, percentage=.9, remove=30):\n",
    "    assert 2*remove<=desired_size\n",
    "    (x, y, r) = detect_xyr(image.copy())\n",
    "    image = center_eye_bulb(image, x, y, r)\n",
    "    image = set_eyebulb_diameter(image, diameter)\n",
    "    image = substract_local_average(image, filter_size, diameter)\n",
    "    image = crop(image, image.shape[1]//2, image.shape[0]//2,max(image.shape[1]//2, image.shape[0]//2), percentage)\n",
    "    image = add_padding(image)\n",
    "    image = cv2.resize(image, (desired_size, desired_size), interpolation=cv2.INTER_NEAREST)\n",
    "    return image"
   ]
  },
  {
   "cell_type": "code",
   "execution_count": 3,
   "metadata": {},
   "outputs": [],
   "source": [
    "db_folder_kaggle = os.path.join(os.getcwd(), '../DR Databases/Kaggle')\n",
    "images_folder_kaggle = os.path.join(db_folder_kaggle, \"images\")\n",
    "preprocessed_folder_kaggle = os.path.join(db_folder_kaggle, \"preprocessed images\")\n",
    "labels_images_kaggle = pd.read_csv(os.path.join(db_folder_kaggle, \"labels.csv\"))"
   ]
  },
  {
   "cell_type": "code",
   "execution_count": 4,
   "metadata": {},
   "outputs": [
    {
     "name": "stderr",
     "output_type": "stream",
     "text": [
      "100% (88700 of 88700) |##################| Elapsed Time: 7:20:43 Time:  7:20:43\n"
     ]
    }
   ],
   "source": [
    "bar = ProgressBar()\n",
    "for i in bar(range(len(labels_images_kaggle))):\n",
    "    image_data = labels_images_kaggle.iloc[i]\n",
    "    image_path = os.path.join(images_folder_kaggle, image_data['image']+\".jpeg\")\n",
    "    img = cv2.imread(image_path)\n",
    "    processed_img = preprocess(img)\n",
    "    cv2.imwrite(os.path.join(preprocessed_folder_kaggle,image_data['image']+\".jpeg\"), processed_img)"
   ]
  }
 ],
 "metadata": {
  "kernelspec": {
   "display_name": "Python 3",
   "language": "python",
   "name": "python3"
  },
  "language_info": {
   "codemirror_mode": {
    "name": "ipython",
    "version": 3
   },
   "file_extension": ".py",
   "mimetype": "text/x-python",
   "name": "python",
   "nbconvert_exporter": "python",
   "pygments_lexer": "ipython3",
   "version": "3.7.9"
  }
 },
 "nbformat": 4,
 "nbformat_minor": 4
}
