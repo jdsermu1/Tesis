{
 "cells": [
  {
   "cell_type": "markdown",
   "metadata": {},
   "source": [
    "# Division de imagenes 1\n",
    "En ese te script se tomaron las 88700 imagenes y se construyeron tres set de datos que se guardan en la carpeta \"strategy 1\". La estrategia que se utilizo fue construir dos set de datos uno de validacion y otro de prueba ambos con un numero de datos balanceado de 100 y 312 (siguiendo paper uniandes) imagenes por clase repectivamente. El resto de imagnes se guardo en el set de entreno."
   ]
  },
  {
   "cell_type": "code",
   "execution_count": 1,
   "metadata": {},
   "outputs": [],
   "source": [
    "import os\n",
    "import pandas as pd\n",
    "from sklearn.model_selection import train_test_split\n",
    "import shutil\n",
    "from progressbar import ProgressBar"
   ]
  },
  {
   "cell_type": "code",
   "execution_count": 2,
   "metadata": {},
   "outputs": [],
   "source": [
    "db_folder_kaggle = os.path.join(os.getcwd(), '../DR Databases/Kaggle')\n",
    "images_folder_kaggle = os.path.join(db_folder_kaggle, \"preprocessed images\")\n",
    "destination_folder = os.path.join(db_folder_kaggle, \"strategy 1\")"
   ]
  },
  {
   "cell_type": "code",
   "execution_count": 3,
   "metadata": {},
   "outputs": [
    {
     "data": {
      "text/html": [
       "<div>\n",
       "<style scoped>\n",
       "    .dataframe tbody tr th:only-of-type {\n",
       "        vertical-align: middle;\n",
       "    }\n",
       "\n",
       "    .dataframe tbody tr th {\n",
       "        vertical-align: top;\n",
       "    }\n",
       "\n",
       "    .dataframe thead th {\n",
       "        text-align: right;\n",
       "    }\n",
       "</style>\n",
       "<table border=\"1\" class=\"dataframe\">\n",
       "  <thead>\n",
       "    <tr style=\"text-align: right;\">\n",
       "      <th></th>\n",
       "      <th>image</th>\n",
       "      <th>level</th>\n",
       "      <th>original_class</th>\n",
       "    </tr>\n",
       "  </thead>\n",
       "  <tbody>\n",
       "    <tr>\n",
       "      <th>0</th>\n",
       "      <td>10_left</td>\n",
       "      <td>0</td>\n",
       "      <td>train</td>\n",
       "    </tr>\n",
       "    <tr>\n",
       "      <th>1</th>\n",
       "      <td>10_right</td>\n",
       "      <td>0</td>\n",
       "      <td>train</td>\n",
       "    </tr>\n",
       "    <tr>\n",
       "      <th>2</th>\n",
       "      <td>13_left</td>\n",
       "      <td>0</td>\n",
       "      <td>train</td>\n",
       "    </tr>\n",
       "    <tr>\n",
       "      <th>3</th>\n",
       "      <td>13_right</td>\n",
       "      <td>0</td>\n",
       "      <td>train</td>\n",
       "    </tr>\n",
       "    <tr>\n",
       "      <th>4</th>\n",
       "      <td>15_left</td>\n",
       "      <td>1</td>\n",
       "      <td>train</td>\n",
       "    </tr>\n",
       "  </tbody>\n",
       "</table>\n",
       "</div>"
      ],
      "text/plain": [
       "      image  level original_class\n",
       "0   10_left      0          train\n",
       "1  10_right      0          train\n",
       "2   13_left      0          train\n",
       "3  13_right      0          train\n",
       "4   15_left      1          train"
      ]
     },
     "execution_count": 3,
     "metadata": {},
     "output_type": "execute_result"
    }
   ],
   "source": [
    "size_validation = 100\n",
    "size_test = 312\n",
    "size_partition = size_test+size_validation\n",
    "labels = pd.read_csv(os.path.join(db_folder_kaggle, \"labels.csv\"))\n",
    "labels.head()"
   ]
  },
  {
   "cell_type": "code",
   "execution_count": 4,
   "metadata": {},
   "outputs": [],
   "source": [
    "def copy_to_folder(df:pd.DataFrame, folder_to_copy):\n",
    "    bar = ProgressBar()\n",
    "    for i in bar(range(len(df))):\n",
    "        img_data = df.iloc[i]\n",
    "        shutil.copy2(os.path.join(images_folder_kaggle, img_data[\"image\"]+\".jpeg\"), folder_to_copy)\n",
    "        "
   ]
  },
  {
   "cell_type": "code",
   "execution_count": 5,
   "metadata": {},
   "outputs": [
    {
     "name": "stderr",
     "output_type": "stream",
     "text": [
      "100% (100 of 100) |######################| Elapsed Time: 0:00:00 Time:  0:00:00\n",
      "100% (312 of 312) |######################| Elapsed Time: 0:00:00 Time:  0:00:00\n",
      "100% (64930 of 64930) |##################| Elapsed Time: 0:01:48 Time:  0:01:48\n",
      "100% (100 of 100) |######################| Elapsed Time: 0:00:00 Time:  0:00:00\n",
      "100% (312 of 312) |######################| Elapsed Time: 0:00:00 Time:  0:00:00\n",
      "100% (5793 of 5793) |####################| Elapsed Time: 0:00:09 Time:  0:00:09\n",
      "100% (100 of 100) |######################| Elapsed Time: 0:00:00 Time:  0:00:00\n",
      "100% (312 of 312) |######################| Elapsed Time: 0:00:00 Time:  0:00:00\n",
      "100% (12740 of 12740) |##################| Elapsed Time: 0:00:20 Time:  0:00:20\n",
      "100% (100 of 100) |######################| Elapsed Time: 0:00:00 Time:  0:00:00\n",
      "100% (312 of 312) |######################| Elapsed Time: 0:00:00 Time:  0:00:00\n",
      "100% (1675 of 1675) |####################| Elapsed Time: 0:00:02 Time:  0:00:02\n",
      "100% (100 of 100) |######################| Elapsed Time: 0:00:00 Time:  0:00:00\n",
      "100% (312 of 312) |######################| Elapsed Time: 0:00:00 Time:  0:00:00\n",
      "100% (1502 of 1502) |####################| Elapsed Time: 0:00:02 Time:  0:00:02\n"
     ]
    }
   ],
   "source": [
    "for c in range(5):\n",
    "    labels_c = labels[labels['level']==c]\n",
    "    labels_train, labels_test_val = train_test_split(labels_c, test_size=size_partition)\n",
    "    labels_test, labels_validation = train_test_split(labels_test_val, test_size=size_validation)\n",
    "    copy_to_folder(labels_validation, os.path.join(destination_folder, \"validation\", str(c)))\n",
    "    copy_to_folder(labels_test, os.path.join(destination_folder, \"test\", str(c)))\n",
    "    copy_to_folder(labels_train, os.path.join(destination_folder, \"train\", str(c)))"
   ]
  }
 ],
 "metadata": {
  "kernelspec": {
   "display_name": "Python 3",
   "language": "python",
   "name": "python3"
  },
  "language_info": {
   "codemirror_mode": {
    "name": "ipython",
    "version": 3
   },
   "file_extension": ".py",
   "mimetype": "text/x-python",
   "name": "python",
   "nbconvert_exporter": "python",
   "pygments_lexer": "ipython3",
   "version": "3.7.9"
  }
 },
 "nbformat": 4,
 "nbformat_minor": 4
}
