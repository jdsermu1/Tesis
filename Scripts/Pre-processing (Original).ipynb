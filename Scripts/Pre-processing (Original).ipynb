{
 "cells": [
  {
   "cell_type": "code",
   "execution_count": 2,
   "metadata": {},
   "outputs": [],
   "source": [
    "import cv2, numpy, os\n",
    "from progressbar import ProgressBar\n",
    "import pandas as pd"
   ]
  },
  {
   "cell_type": "code",
   "execution_count": 3,
   "metadata": {},
   "outputs": [],
   "source": [
    "db_folder_kaggle = os.path.join(os.getcwd(), '../DR Databases/Kaggle')\n",
    "images_folder_kaggle = os.path.join(db_folder_kaggle, \"images\")\n",
    "preprocessed_folder_kaggle = os.path.join(db_folder_kaggle, \"preprocessed images (original)\")\n",
    "\n",
    "labels_images_kaggle = pd.read_csv(os.path.join(db_folder_kaggle, \"labels.csv\"))"
   ]
  },
  {
   "cell_type": "code",
   "execution_count": 7,
   "metadata": {},
   "outputs": [],
   "source": [
    "def scaleRadius(img,scale):\n",
    "    x=img[img.shape[0]//2,:,:].sum(1)\n",
    "    r=(x>x.mean()/10).sum()/2\n",
    "    s=scale*1.0/r\n",
    "    return cv2.resize(img,(0,0),fx=s,fy=s)\n",
    "\n",
    "# for scale in [300, 500, 1000]:\n",
    "#     for f in (glob.glob(\"train/*.jpeg\")+glob.glob(\"test/*.jpeg\")):\n",
    "#         try:\n",
    "#             a=cv2.imread(f)\n",
    "#             a=scaleRadius(a,scale)\n",
    "#             b=numpy.zeros(a.shape)\n",
    "#             cv2.circle(b,(a.shape[1]/2,a.shape[0]/2),int(scale*0.9),(1,1,1),-1,8,0)\n",
    "#             aa=cv2.addWeighted(a,4,cv2.GaussianBlur(a,(0,0),scale/30),-4,128)*b+128*(1-b)\n",
    "#             cv2.imwrite(str(scale)+\"_\"+f,aa)\n",
    "#         except:\n",
    "#             print f"
   ]
  },
  {
   "cell_type": "code",
   "execution_count": 19,
   "metadata": {},
   "outputs": [
    {
     "name": "stderr",
     "output_type": "stream",
     "text": [
      "N/A% (0 of 88700) |                      | Elapsed Time: 0:00:00 ETA:  --:--:--"
     ]
    },
    {
     "name": "stdout",
     "output_type": "stream",
     "text": [
      "(569, 853, 3)\n"
     ]
    }
   ],
   "source": [
    "bar = ProgressBar()\n",
    "scale = 270\n",
    "for i in bar(range( len(labels_images_kaggle))):\n",
    "    image_data = labels_images_kaggle.iloc[i]\n",
    "    image_path = os.path.join(images_folder_kaggle, image_data['image']+\".jpeg\")\n",
    "    img = cv2.imread(image_path)\n",
    "    img = scaleRadius(img,scale)\n",
    "    b=numpy.zeros(img.shape)\n",
    "    cv2.circle(b,(img.shape[1]//2,img.shape[0]//2),int(scale*0.9),(1,1,1),-1,8,0)\n",
    "    img=cv2.addWeighted(img,4,cv2.GaussianBlur(img,(0,0),scale/30),-4,128)*b+128*(1-b)\n",
    "    cv2.imwrite(os.path.join(preprocessed_folder_kaggle,image_data['image']+\".jpeg\"), img)\n",
    "    print(img.shape)\n",
    "    break"
   ]
  },
  {
   "cell_type": "code",
   "execution_count": 16,
   "metadata": {},
   "outputs": [
    {
     "name": "stdout",
     "output_type": "stream",
     "text": [
      "image             492_left\n",
      "level                    0\n",
      "original_class       train\n",
      "Name: 424, dtype: object\n"
     ]
    }
   ],
   "source": [
    "print(labels_images_kaggle.iloc[424])"
   ]
  }
 ],
 "metadata": {
  "kernelspec": {
   "display_name": "Python 3",
   "language": "python",
   "name": "python3"
  },
  "language_info": {
   "codemirror_mode": {
    "name": "ipython",
    "version": 3
   },
   "file_extension": ".py",
   "mimetype": "text/x-python",
   "name": "python",
   "nbconvert_exporter": "python",
   "pygments_lexer": "ipython3",
   "version": "3.7.9"
  }
 },
 "nbformat": 4,
 "nbformat_minor": 4
}
